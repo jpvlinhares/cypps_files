{
  "cells": [
    {
      "cell_type": "code",
      "execution_count": 1,
      "metadata": {
        "scrolled": true,
        "colab": {
          "base_uri": "https://localhost:8080/",
          "height": 1000
        },
        "id": "D-17VnCBDMp9",
        "outputId": "db4b0eb7-4876-48db-9f23-02d2ae0e024f"
      },
      "outputs": [
        {
          "output_type": "stream",
          "name": "stdout",
          "text": [
            "Collecting rdkit==2025.3.2\n",
            "  Downloading rdkit-2025.3.2-cp311-cp311-manylinux_2_28_x86_64.whl.metadata (4.0 kB)\n",
            "Collecting mordred==1.2.0\n",
            "  Downloading mordred-1.2.0.tar.gz (128 kB)\n",
            "\u001b[?25l     \u001b[90m━━━━━━━━━━━━━━━━━━━━━━━━━━━━━━━━━━━━━━━━\u001b[0m \u001b[32m0.0/128.8 kB\u001b[0m \u001b[31m?\u001b[0m eta \u001b[36m-:--:--\u001b[0m\r\u001b[2K     \u001b[91m━━━━━━━━━━━━━━━━━━━━━━━━━━━━━━━━━━━━━\u001b[0m\u001b[90m╺\u001b[0m\u001b[90m━\u001b[0m \u001b[32m122.9/128.8 kB\u001b[0m \u001b[31m4.7 MB/s\u001b[0m eta \u001b[36m0:00:01\u001b[0m\r\u001b[2K     \u001b[90m━━━━━━━━━━━━━━━━━━━━━━━━━━━━━━━━━━━━━━━\u001b[0m \u001b[32m128.8/128.8 kB\u001b[0m \u001b[31m2.8 MB/s\u001b[0m eta \u001b[36m0:00:00\u001b[0m\n",
            "\u001b[?25h  Preparing metadata (setup.py) ... \u001b[?25l\u001b[?25hdone\n",
            "Collecting networkx==2.8.8\n",
            "  Downloading networkx-2.8.8-py3-none-any.whl.metadata (5.1 kB)\n",
            "Requirement already satisfied: joblib in /usr/local/lib/python3.11/dist-packages (1.5.1)\n",
            "Requirement already satisfied: pandas in /usr/local/lib/python3.11/dist-packages (2.2.2)\n",
            "Collecting numpy==1.26.4\n",
            "  Downloading numpy-1.26.4-cp311-cp311-manylinux_2_17_x86_64.manylinux2014_x86_64.whl.metadata (61 kB)\n",
            "\u001b[2K     \u001b[90m━━━━━━━━━━━━━━━━━━━━━━━━━━━━━━━━━━━━━━━\u001b[0m \u001b[32m61.0/61.0 kB\u001b[0m \u001b[31m381.5 kB/s\u001b[0m eta \u001b[36m0:00:00\u001b[0m\n",
            "\u001b[?25hRequirement already satisfied: Pillow in /usr/local/lib/python3.11/dist-packages (from rdkit==2025.3.2) (11.2.1)\n",
            "Requirement already satisfied: six==1.* in /usr/local/lib/python3.11/dist-packages (from mordred==1.2.0) (1.17.0)\n",
            "Requirement already satisfied: python-dateutil>=2.8.2 in /usr/local/lib/python3.11/dist-packages (from pandas) (2.9.0.post0)\n",
            "Requirement already satisfied: pytz>=2020.1 in /usr/local/lib/python3.11/dist-packages (from pandas) (2025.2)\n",
            "Requirement already satisfied: tzdata>=2022.7 in /usr/local/lib/python3.11/dist-packages (from pandas) (2025.2)\n",
            "Downloading rdkit-2025.3.2-cp311-cp311-manylinux_2_28_x86_64.whl (35.2 MB)\n",
            "\u001b[2K   \u001b[90m━━━━━━━━━━━━━━━━━━━━━━━━━━━━━━━━━━━━━━━━\u001b[0m \u001b[32m35.2/35.2 MB\u001b[0m \u001b[31m32.1 MB/s\u001b[0m eta \u001b[36m0:00:00\u001b[0m\n",
            "\u001b[?25hDownloading networkx-2.8.8-py3-none-any.whl (2.0 MB)\n",
            "\u001b[2K   \u001b[90m━━━━━━━━━━━━━━━━━━━━━━━━━━━━━━━━━━━━━━━━\u001b[0m \u001b[32m2.0/2.0 MB\u001b[0m \u001b[31m34.8 MB/s\u001b[0m eta \u001b[36m0:00:00\u001b[0m\n",
            "\u001b[?25hDownloading numpy-1.26.4-cp311-cp311-manylinux_2_17_x86_64.manylinux2014_x86_64.whl (18.3 MB)\n",
            "\u001b[2K   \u001b[90m━━━━━━━━━━━━━━━━━━━━━━━━━━━━━━━━━━━━━━━━\u001b[0m \u001b[32m18.3/18.3 MB\u001b[0m \u001b[31m28.5 MB/s\u001b[0m eta \u001b[36m0:00:00\u001b[0m\n",
            "\u001b[?25hBuilding wheels for collected packages: mordred\n",
            "  Building wheel for mordred (setup.py) ... \u001b[?25l\u001b[?25hdone\n",
            "  Created wheel for mordred: filename=mordred-1.2.0-py3-none-any.whl size=176718 sha256=7832c0915218d8d0d8d6f6e3e0d272c4b22a60a3ae93b43892ff9142b0a7a23a\n",
            "  Stored in directory: /root/.cache/pip/wheels/8b/30/0b/84e3f6775306e74cf5957ee4d16b10bf3927dcec44cc23d5f2\n",
            "Successfully built mordred\n",
            "Installing collected packages: numpy, networkx, rdkit, mordred\n",
            "  Attempting uninstall: numpy\n",
            "    Found existing installation: numpy 2.0.2\n",
            "    Uninstalling numpy-2.0.2:\n",
            "      Successfully uninstalled numpy-2.0.2\n",
            "  Attempting uninstall: networkx\n",
            "    Found existing installation: networkx 3.5\n",
            "    Uninstalling networkx-3.5:\n",
            "      Successfully uninstalled networkx-3.5\n",
            "\u001b[31mERROR: pip's dependency resolver does not currently take into account all the packages that are installed. This behaviour is the source of the following dependency conflicts.\n",
            "torch 2.6.0+cu124 requires nvidia-cublas-cu12==12.4.5.8; platform_system == \"Linux\" and platform_machine == \"x86_64\", but you have nvidia-cublas-cu12 12.5.3.2 which is incompatible.\n",
            "torch 2.6.0+cu124 requires nvidia-cuda-cupti-cu12==12.4.127; platform_system == \"Linux\" and platform_machine == \"x86_64\", but you have nvidia-cuda-cupti-cu12 12.5.82 which is incompatible.\n",
            "torch 2.6.0+cu124 requires nvidia-cuda-nvrtc-cu12==12.4.127; platform_system == \"Linux\" and platform_machine == \"x86_64\", but you have nvidia-cuda-nvrtc-cu12 12.5.82 which is incompatible.\n",
            "torch 2.6.0+cu124 requires nvidia-cuda-runtime-cu12==12.4.127; platform_system == \"Linux\" and platform_machine == \"x86_64\", but you have nvidia-cuda-runtime-cu12 12.5.82 which is incompatible.\n",
            "torch 2.6.0+cu124 requires nvidia-cudnn-cu12==9.1.0.70; platform_system == \"Linux\" and platform_machine == \"x86_64\", but you have nvidia-cudnn-cu12 9.3.0.75 which is incompatible.\n",
            "torch 2.6.0+cu124 requires nvidia-cufft-cu12==11.2.1.3; platform_system == \"Linux\" and platform_machine == \"x86_64\", but you have nvidia-cufft-cu12 11.2.3.61 which is incompatible.\n",
            "torch 2.6.0+cu124 requires nvidia-curand-cu12==10.3.5.147; platform_system == \"Linux\" and platform_machine == \"x86_64\", but you have nvidia-curand-cu12 10.3.6.82 which is incompatible.\n",
            "torch 2.6.0+cu124 requires nvidia-cusolver-cu12==11.6.1.9; platform_system == \"Linux\" and platform_machine == \"x86_64\", but you have nvidia-cusolver-cu12 11.6.3.83 which is incompatible.\n",
            "torch 2.6.0+cu124 requires nvidia-cusparse-cu12==12.3.1.170; platform_system == \"Linux\" and platform_machine == \"x86_64\", but you have nvidia-cusparse-cu12 12.5.1.3 which is incompatible.\n",
            "torch 2.6.0+cu124 requires nvidia-nvjitlink-cu12==12.4.127; platform_system == \"Linux\" and platform_machine == \"x86_64\", but you have nvidia-nvjitlink-cu12 12.5.82 which is incompatible.\n",
            "scikit-image 0.25.2 requires networkx>=3.0, but you have networkx 2.8.8 which is incompatible.\n",
            "thinc 8.3.6 requires numpy<3.0.0,>=2.0.0, but you have numpy 1.26.4 which is incompatible.\n",
            "nx-cugraph-cu12 25.2.0 requires networkx>=3.2, but you have networkx 2.8.8 which is incompatible.\u001b[0m\u001b[31m\n",
            "\u001b[0mSuccessfully installed mordred-1.2.0 networkx-2.8.8 numpy-1.26.4 rdkit-2025.3.2\n"
          ]
        },
        {
          "output_type": "display_data",
          "data": {
            "application/vnd.colab-display-data+json": {
              "pip_warning": {
                "packages": [
                  "numpy"
                ]
              },
              "id": "f5c51884b1dc473cb05ed271286bbed2"
            }
          },
          "metadata": {}
        }
      ],
      "source": [
        "!pip install rdkit==2025.3.2 mordred==1.2.0 networkx==2.8.8 joblib pandas numpy==1.26.4"
      ]
    },
    {
      "cell_type": "code",
      "execution_count": 1,
      "metadata": {
        "id": "RtBWNf13DMp-"
      },
      "outputs": [],
      "source": [
        "import os\n",
        "import pandas as pd\n",
        "from rdkit.Chem import AllChem\n",
        "from rdkit import Chem\n",
        "from rdkit.Chem import rdFingerprintGenerator\n",
        "from rdkit.Chem import Descriptors\n",
        "from rdkit.ML.Descriptors import MoleculeDescriptors\n",
        "from mordred import Calculator, descriptors\n",
        "import joblib"
      ]
    },
    {
      "cell_type": "code",
      "execution_count": 3,
      "metadata": {
        "colab": {
          "base_uri": "https://localhost:8080/",
          "height": 35
        },
        "id": "PcqsO52UDMp_",
        "outputId": "37a753e5-6b2d-4fa9-d30b-2a1ce13ba624"
      },
      "outputs": [
        {
          "output_type": "display_data",
          "data": {
            "text/plain": [
              "'O=C(N[C@@H](CC1CCCCC1)C(N[C@@H]([C@H](O)C)C(N[C@@H](CC2=CC=CC=C2)C(N[C@@H](CC3CCCCC3)C(N4[C@H]5CCC4)=O)=O)=O)=O)[C@H](C)NC5=O'"
            ],
            "application/vnd.google.colaboratory.intrinsic+json": {
              "type": "string"
            }
          },
          "metadata": {}
        }
      ],
      "source": [
        "import ipywidgets as widgets\n",
        "from IPython.display import display\n",
        "\n",
        "# Create a text area widget for user input\n",
        "smiles_input = \"O=C(N[C@@H](CC1CCCCC1)C(N[C@@H]([C@H](O)C)C(N[C@@H](CC2=CC=CC=C2)C(N[C@@H](CC3CCCCC3)C(N4[C@H]5CCC4)=O)=O)=O)=O)[C@H](C)NC5=O\" # @param {\"type\":\"string\",\"placeholder\":\"Input your SMILES here and press the play button located on the left.\"}\n",
        "display(smiles_input)\n",
        "\n",
        "# Process input into a DataFrame\n",
        "input_smiles = smiles_input.strip().split('\\n')\n",
        "dataset = pd.DataFrame(input_smiles)\n",
        "seq_list = [str(x) for x in dataset.iloc[:, 0]]\n",
        "id_list = list(range(1, len(seq_list) + 1))\n",
        "\n",
        "def canonical_smiles(smiles):\n",
        "  mols = [Chem.MolFromSmiles(smi) for smi in smiles]\n",
        "  return [Chem.MolToSmiles(mol) for mol in mols]\n",
        "\n",
        "dataset['SMILES_cano'] = canonical_smiles(dataset.iloc[:, 0])\n",
        "dataset_new = dataset.copy()"
      ]
    },
    {
      "cell_type": "code",
      "execution_count": 4,
      "metadata": {
        "id": "E1aDTi81DMp_"
      },
      "outputs": [],
      "source": [
        "def custom_Kappa3(A, alpha, Pi):\n",
        "    if A % 2 == 0:\n",
        "        return ((A + alpha - 3) * (A + alpha - 2) ** 2 / ((Pi + alpha) ** 2))\n",
        "    else:\n",
        "        return (A + alpha - 1) * (A + alpha - 3) ** 2 / ((Pi + alpha) ** 2)\n",
        "\n",
        "def canonical_smiles(smiles):\n",
        "    mols = [Chem.MolFromSmiles(smi) for smi in smiles]\n",
        "    return [Chem.MolToSmiles(mol) for mol in mols]\n"
      ]
    },
    {
      "cell_type": "code",
      "execution_count": 5,
      "metadata": {
        "id": "-Y33BpwxDMqA"
      },
      "outputs": [],
      "source": [
        "mols = [Chem.MolFromSmiles(i) for i in dataset_new['SMILES_cano']]\n",
        "calc = MoleculeDescriptors.MolecularDescriptorCalculator([x[0] for x in Descriptors._descList])\n",
        "desc_names = calc.GetDescriptorNames()\n",
        "kappa3_idx = desc_names.index('Kappa3')\n",
        "\n",
        "Mol_descriptors = []\n",
        "for mol in mols:\n",
        "    mol = Chem.AddHs(mol)\n",
        "    descriptors_values = list(calc.CalcDescriptors(mol))\n",
        "    Pi = len(Chem.FindAllPathsOfLengthN(mol, 3))\n",
        "    alpha = Descriptors.HallKierAlpha(mol)\n",
        "    A = mol.GetNumAtoms()\n",
        "    custom_kappa3_value = custom_Kappa3(A, alpha, Pi)\n",
        "    descriptors_values[kappa3_idx] = custom_kappa3_value\n",
        "    Mol_descriptors.append(descriptors_values)\n",
        "\n",
        "df_with_rdkit_descriptors = pd.DataFrame(Mol_descriptors, columns=desc_names)\n",
        "dataset_new = pd.concat([dataset_new, df_with_rdkit_descriptors], axis=1)\n"
      ]
    },
    {
      "cell_type": "code",
      "execution_count": 6,
      "metadata": {
        "id": "9cQEWFz7DMqA"
      },
      "outputs": [],
      "source": [
        "Morgan_fpts = []\n",
        "mfpgen = rdFingerprintGenerator.GetMorganGenerator(radius=2, fpSize=2048)\n",
        "\n",
        "for smi in dataset_new['SMILES_cano']:\n",
        "    mol = Chem.MolFromSmiles(smi)\n",
        "    scfp = mfpgen.GetCountFingerprintAsNumPy(mol)\n",
        "    Morgan_fpts.append(scfp)\n",
        "\n",
        "df_Morgan_fpts = pd.DataFrame(Morgan_fpts, columns=[f\"morgan{i+1}\" for i in range(len(Morgan_fpts[0]))])\n",
        "dataset_new = pd.concat([dataset_new, df_Morgan_fpts], axis=1)\n"
      ]
    },
    {
      "cell_type": "code",
      "execution_count": 7,
      "metadata": {
        "colab": {
          "base_uri": "https://localhost:8080/"
        },
        "id": "L5nj4xlWDMqB",
        "outputId": "18331ccf-ed79-40f8-9997-6c5d64bbfc7e"
      },
      "outputs": [
        {
          "output_type": "stream",
          "name": "stderr",
          "text": [
            "100%|██████████| 1/1 [00:00<00:00,  3.49it/s]\n"
          ]
        }
      ],
      "source": [
        "calc_mordred = Calculator([\n",
        "    descriptors.WalkCount,\n",
        "    descriptors.Autocorrelation,\n",
        "    descriptors.ExtendedTopochemicalAtom,\n",
        "    descriptors.AtomCount\n",
        "], ignore_3D=False)\n",
        "\n",
        "mordred_descriptors = calc_mordred.pandas(mols)\n",
        "dataset_new = pd.concat([dataset_new, mordred_descriptors], axis=1)\n"
      ]
    },
    {
      "cell_type": "code",
      "execution_count": 8,
      "metadata": {
        "colab": {
          "base_uri": "https://localhost:8080/"
        },
        "id": "XERu7XwfDMqB",
        "outputId": "4d72efd3-45ad-47f4-fcad-9dba1525c5be"
      },
      "outputs": [
        {
          "output_type": "stream",
          "name": "stdout",
          "text": [
            "--2025-06-12 05:07:00--  https://raw.githubusercontent.com/jpvlinhares/cypps_files/refs/heads/main/training_testing_files/CycPeptMPDB_Peptide_Assay_PAMPA_onlyInfo.csv_0.01features_final_df.csv.train_set_butina_0.3.csv_afterGreedyBLIND.csv\n",
            "Resolving raw.githubusercontent.com (raw.githubusercontent.com)... 185.199.109.133, 185.199.108.133, 185.199.110.133, ...\n",
            "Connecting to raw.githubusercontent.com (raw.githubusercontent.com)|185.199.109.133|:443... connected.\n",
            "HTTP request sent, awaiting response... 200 OK\n",
            "Length: 1006616 (983K) [text/plain]\n",
            "Saving to: ‘CycPeptMPDB_Peptide_Assay_PAMPA_onlyInfo.csv_0.01features_final_df.csv.train_set_butina_0.3.csv_afterGreedyBLIND.csv’\n",
            "\n",
            "CycPeptMPDB_Peptide 100%[===================>] 983.02K  --.-KB/s    in 0.06s   \n",
            "\n",
            "2025-06-12 05:07:01 (16.0 MB/s) - ‘CycPeptMPDB_Peptide_Assay_PAMPA_onlyInfo.csv_0.01features_final_df.csv.train_set_butina_0.3.csv_afterGreedyBLIND.csv’ saved [1006616/1006616]\n",
            "\n",
            "--2025-06-12 05:07:02--  https://raw.githubusercontent.com/jpvlinhares/cypps_files/refs/heads/main/training_testing_files/CycPeptMPDB_Peptide_Assay_Caco2_onlyInfo.csv_0.01features_final_df.csv.train_set_butina_0.3.csv_afterGreedyBLIND.csv\n",
            "Resolving raw.githubusercontent.com (raw.githubusercontent.com)... 185.199.108.133, 185.199.109.133, 185.199.110.133, ...\n",
            "Connecting to raw.githubusercontent.com (raw.githubusercontent.com)|185.199.108.133|:443... connected.\n",
            "HTTP request sent, awaiting response... 200 OK\n",
            "Length: 202042 (197K) [text/plain]\n",
            "Saving to: ‘CycPeptMPDB_Peptide_Assay_Caco2_onlyInfo.csv_0.01features_final_df.csv.train_set_butina_0.3.csv_afterGreedyBLIND.csv’\n",
            "\n",
            "CycPeptMPDB_Peptide 100%[===================>] 197.31K  --.-KB/s    in 0.03s   \n",
            "\n",
            "2025-06-12 05:07:03 (5.63 MB/s) - ‘CycPeptMPDB_Peptide_Assay_Caco2_onlyInfo.csv_0.01features_final_df.csv.train_set_butina_0.3.csv_afterGreedyBLIND.csv’ saved [202042/202042]\n",
            "\n"
          ]
        }
      ],
      "source": [
        "from sklearn.ensemble import ExtraTreesRegressor\n",
        "import pandas as pd\n",
        "\n",
        "# === PAMPA MODEL ===\n",
        "# Load training data\n",
        "!wget https://raw.githubusercontent.com/jpvlinhares/cypps_files/refs/heads/main/training_testing_files/CycPeptMPDB_Peptide_Assay_PAMPA_onlyInfo.csv_0.01features_final_df.csv.train_set_butina_0.3.csv_afterGreedyBLIND.csv\n",
        "data_training_pampa = pd.read_csv('https://raw.githubusercontent.com/jpvlinhares/cypps_files/refs/heads/main/training_testing_files/CycPeptMPDB_Peptide_Assay_PAMPA_onlyInfo.csv_0.01features_final_df.csv.train_set_butina_0.3.csv_afterGreedyBLIND.csv')\n",
        "# Prepare features and labels\n",
        "X_pampa = pd.get_dummies(data_training_pampa)\n",
        "y_pampa = X_pampa['PAMPA']\n",
        "X_pampa.drop(['PAMPA', 'ID'], axis=1, inplace=True)\n",
        "# Train model\n",
        "model_pampa = ExtraTreesRegressor(n_estimators=100, n_jobs=-1, random_state=0)\n",
        "model_pampa.fit(X_pampa, y_pampa)\n",
        "\n",
        "# === CACO-2 MODEL ===\n",
        "!wget https://raw.githubusercontent.com/jpvlinhares/cypps_files/refs/heads/main/training_testing_files/CycPeptMPDB_Peptide_Assay_Caco2_onlyInfo.csv_0.01features_final_df.csv.train_set_butina_0.3.csv_afterGreedyBLIND.csv\n",
        "# Load training data\n",
        "data_training_caco2  = pd.read_csv('CycPeptMPDB_Peptide_Assay_Caco2_onlyInfo.csv_0.01features_final_df.csv.train_set_butina_0.3.csv_afterGreedyBLIND.csv')\n",
        "# Prepare features and labels\n",
        "X_caco2 = pd.get_dummies(data_training_caco2)\n",
        "y_caco2 = X_caco2['Caco2']\n",
        "X_caco2.drop(['Caco2', 'ID'], axis=1, inplace=True)\n",
        "# Train model\n",
        "model_caco2 = ExtraTreesRegressor(n_estimators=100, n_jobs=-1, random_state=0)\n",
        "model_caco2.fit(X_caco2, y_caco2)\n",
        "\n",
        "PAMPA_Features = ['BCUT2D_CHGLO','MolLogP','ATSC3c','VSA_EState2','ATSC0c','ATS8s',\n",
        "                  'AATSC7p','SRW05','fr_NH0','GATS4c','morgan688','morgan799']\n",
        "\n",
        "Caco2_Features = ['ATSC0se','Chi0n','AATS0i','morgan66','morgan131','AATSC0d','fr_halogen',\n",
        "                  'AATS8m','BalabanJ','ATSC7p','morgan1952','AATSC0m','MaxAbsPartialCharge','TSRW10']\n",
        "\n",
        "methods_df_pampa = pd.DataFrame(dataset_new, columns=PAMPA_Features)\n",
        "methods_df_caco2 = pd.DataFrame(dataset_new, columns=Caco2_Features)\n",
        "\n",
        "prediction_pampa = list(map(float, model_pampa.predict(methods_df_pampa).round(2)))\n",
        "prediction_caco2 = list(map(float, model_caco2.predict(methods_df_caco2).round(2)))"
      ]
    },
    {
      "cell_type": "code",
      "execution_count": 9,
      "metadata": {
        "colab": {
          "base_uri": "https://localhost:8080/",
          "height": 89
        },
        "id": "bYAm3xWiDMqC",
        "outputId": "74953219-bd46-43d2-f3d9-28effcde9371"
      },
      "outputs": [
        {
          "output_type": "execute_result",
          "data": {
            "text/plain": [
              "   id                                                seq  PAMPA_pred  \\\n",
              "0   1  O=C(N[C@@H](CC1CCCCC1)C(N[C@@H]([C@H](O)C)C(N[...       -5.05   \n",
              "\n",
              "   Caco2_pred  \n",
              "0       -6.25  "
            ],
            "text/html": [
              "\n",
              "  <div id=\"df-05cd4f84-2f44-46fa-84b2-becf01fa5e23\" class=\"colab-df-container\">\n",
              "    <div>\n",
              "<style scoped>\n",
              "    .dataframe tbody tr th:only-of-type {\n",
              "        vertical-align: middle;\n",
              "    }\n",
              "\n",
              "    .dataframe tbody tr th {\n",
              "        vertical-align: top;\n",
              "    }\n",
              "\n",
              "    .dataframe thead th {\n",
              "        text-align: right;\n",
              "    }\n",
              "</style>\n",
              "<table border=\"1\" class=\"dataframe\">\n",
              "  <thead>\n",
              "    <tr style=\"text-align: right;\">\n",
              "      <th></th>\n",
              "      <th>id</th>\n",
              "      <th>seq</th>\n",
              "      <th>PAMPA_pred</th>\n",
              "      <th>Caco2_pred</th>\n",
              "    </tr>\n",
              "  </thead>\n",
              "  <tbody>\n",
              "    <tr>\n",
              "      <th>0</th>\n",
              "      <td>1</td>\n",
              "      <td>O=C(N[C@@H](CC1CCCCC1)C(N[C@@H]([C@H](O)C)C(N[...</td>\n",
              "      <td>-5.05</td>\n",
              "      <td>-6.25</td>\n",
              "    </tr>\n",
              "  </tbody>\n",
              "</table>\n",
              "</div>\n",
              "    <div class=\"colab-df-buttons\">\n",
              "\n",
              "  <div class=\"colab-df-container\">\n",
              "    <button class=\"colab-df-convert\" onclick=\"convertToInteractive('df-05cd4f84-2f44-46fa-84b2-becf01fa5e23')\"\n",
              "            title=\"Convert this dataframe to an interactive table.\"\n",
              "            style=\"display:none;\">\n",
              "\n",
              "  <svg xmlns=\"http://www.w3.org/2000/svg\" height=\"24px\" viewBox=\"0 -960 960 960\">\n",
              "    <path d=\"M120-120v-720h720v720H120Zm60-500h600v-160H180v160Zm220 220h160v-160H400v160Zm0 220h160v-160H400v160ZM180-400h160v-160H180v160Zm440 0h160v-160H620v160ZM180-180h160v-160H180v160Zm440 0h160v-160H620v160Z\"/>\n",
              "  </svg>\n",
              "    </button>\n",
              "\n",
              "  <style>\n",
              "    .colab-df-container {\n",
              "      display:flex;\n",
              "      gap: 12px;\n",
              "    }\n",
              "\n",
              "    .colab-df-convert {\n",
              "      background-color: #E8F0FE;\n",
              "      border: none;\n",
              "      border-radius: 50%;\n",
              "      cursor: pointer;\n",
              "      display: none;\n",
              "      fill: #1967D2;\n",
              "      height: 32px;\n",
              "      padding: 0 0 0 0;\n",
              "      width: 32px;\n",
              "    }\n",
              "\n",
              "    .colab-df-convert:hover {\n",
              "      background-color: #E2EBFA;\n",
              "      box-shadow: 0px 1px 2px rgba(60, 64, 67, 0.3), 0px 1px 3px 1px rgba(60, 64, 67, 0.15);\n",
              "      fill: #174EA6;\n",
              "    }\n",
              "\n",
              "    .colab-df-buttons div {\n",
              "      margin-bottom: 4px;\n",
              "    }\n",
              "\n",
              "    [theme=dark] .colab-df-convert {\n",
              "      background-color: #3B4455;\n",
              "      fill: #D2E3FC;\n",
              "    }\n",
              "\n",
              "    [theme=dark] .colab-df-convert:hover {\n",
              "      background-color: #434B5C;\n",
              "      box-shadow: 0px 1px 3px 1px rgba(0, 0, 0, 0.15);\n",
              "      filter: drop-shadow(0px 1px 2px rgba(0, 0, 0, 0.3));\n",
              "      fill: #FFFFFF;\n",
              "    }\n",
              "  </style>\n",
              "\n",
              "    <script>\n",
              "      const buttonEl =\n",
              "        document.querySelector('#df-05cd4f84-2f44-46fa-84b2-becf01fa5e23 button.colab-df-convert');\n",
              "      buttonEl.style.display =\n",
              "        google.colab.kernel.accessAllowed ? 'block' : 'none';\n",
              "\n",
              "      async function convertToInteractive(key) {\n",
              "        const element = document.querySelector('#df-05cd4f84-2f44-46fa-84b2-becf01fa5e23');\n",
              "        const dataTable =\n",
              "          await google.colab.kernel.invokeFunction('convertToInteractive',\n",
              "                                                    [key], {});\n",
              "        if (!dataTable) return;\n",
              "\n",
              "        const docLinkHtml = 'Like what you see? Visit the ' +\n",
              "          '<a target=\"_blank\" href=https://colab.research.google.com/notebooks/data_table.ipynb>data table notebook</a>'\n",
              "          + ' to learn more about interactive tables.';\n",
              "        element.innerHTML = '';\n",
              "        dataTable['output_type'] = 'display_data';\n",
              "        await google.colab.output.renderOutput(dataTable, element);\n",
              "        const docLink = document.createElement('div');\n",
              "        docLink.innerHTML = docLinkHtml;\n",
              "        element.appendChild(docLink);\n",
              "      }\n",
              "    </script>\n",
              "  </div>\n",
              "\n",
              "\n",
              "  <div id=\"id_850deaa1-7a39-4654-a848-37ad3cca33f8\">\n",
              "    <style>\n",
              "      .colab-df-generate {\n",
              "        background-color: #E8F0FE;\n",
              "        border: none;\n",
              "        border-radius: 50%;\n",
              "        cursor: pointer;\n",
              "        display: none;\n",
              "        fill: #1967D2;\n",
              "        height: 32px;\n",
              "        padding: 0 0 0 0;\n",
              "        width: 32px;\n",
              "      }\n",
              "\n",
              "      .colab-df-generate:hover {\n",
              "        background-color: #E2EBFA;\n",
              "        box-shadow: 0px 1px 2px rgba(60, 64, 67, 0.3), 0px 1px 3px 1px rgba(60, 64, 67, 0.15);\n",
              "        fill: #174EA6;\n",
              "      }\n",
              "\n",
              "      [theme=dark] .colab-df-generate {\n",
              "        background-color: #3B4455;\n",
              "        fill: #D2E3FC;\n",
              "      }\n",
              "\n",
              "      [theme=dark] .colab-df-generate:hover {\n",
              "        background-color: #434B5C;\n",
              "        box-shadow: 0px 1px 3px 1px rgba(0, 0, 0, 0.15);\n",
              "        filter: drop-shadow(0px 1px 2px rgba(0, 0, 0, 0.3));\n",
              "        fill: #FFFFFF;\n",
              "      }\n",
              "    </style>\n",
              "    <button class=\"colab-df-generate\" onclick=\"generateWithVariable('prediction_df')\"\n",
              "            title=\"Generate code using this dataframe.\"\n",
              "            style=\"display:none;\">\n",
              "\n",
              "  <svg xmlns=\"http://www.w3.org/2000/svg\" height=\"24px\"viewBox=\"0 0 24 24\"\n",
              "       width=\"24px\">\n",
              "    <path d=\"M7,19H8.4L18.45,9,17,7.55,7,17.6ZM5,21V16.75L18.45,3.32a2,2,0,0,1,2.83,0l1.4,1.43a1.91,1.91,0,0,1,.58,1.4,1.91,1.91,0,0,1-.58,1.4L9.25,21ZM18.45,9,17,7.55Zm-12,3A5.31,5.31,0,0,0,4.9,8.1,5.31,5.31,0,0,0,1,6.5,5.31,5.31,0,0,0,4.9,4.9,5.31,5.31,0,0,0,6.5,1,5.31,5.31,0,0,0,8.1,4.9,5.31,5.31,0,0,0,12,6.5,5.46,5.46,0,0,0,6.5,12Z\"/>\n",
              "  </svg>\n",
              "    </button>\n",
              "    <script>\n",
              "      (() => {\n",
              "      const buttonEl =\n",
              "        document.querySelector('#id_850deaa1-7a39-4654-a848-37ad3cca33f8 button.colab-df-generate');\n",
              "      buttonEl.style.display =\n",
              "        google.colab.kernel.accessAllowed ? 'block' : 'none';\n",
              "\n",
              "      buttonEl.onclick = () => {\n",
              "        google.colab.notebook.generateWithVariable('prediction_df');\n",
              "      }\n",
              "      })();\n",
              "    </script>\n",
              "  </div>\n",
              "\n",
              "    </div>\n",
              "  </div>\n"
            ],
            "application/vnd.google.colaboratory.intrinsic+json": {
              "type": "dataframe",
              "variable_name": "prediction_df",
              "summary": "{\n  \"name\": \"prediction_df\",\n  \"rows\": 1,\n  \"fields\": [\n    {\n      \"column\": \"id\",\n      \"properties\": {\n        \"dtype\": \"number\",\n        \"std\": null,\n        \"min\": 1,\n        \"max\": 1,\n        \"num_unique_values\": 1,\n        \"samples\": [\n          1\n        ],\n        \"semantic_type\": \"\",\n        \"description\": \"\"\n      }\n    },\n    {\n      \"column\": \"seq\",\n      \"properties\": {\n        \"dtype\": \"string\",\n        \"num_unique_values\": 1,\n        \"samples\": [\n          \"O=C(N[C@@H](CC1CCCCC1)C(N[C@@H]([C@H](O)C)C(N[C@@H](CC2=CC=CC=C2)C(N[C@@H](CC3CCCCC3)C(N4[C@H]5CCC4)=O)=O)=O)=O)[C@H](C)NC5=O\"\n        ],\n        \"semantic_type\": \"\",\n        \"description\": \"\"\n      }\n    },\n    {\n      \"column\": \"PAMPA_pred\",\n      \"properties\": {\n        \"dtype\": \"number\",\n        \"std\": null,\n        \"min\": -5.05,\n        \"max\": -5.05,\n        \"num_unique_values\": 1,\n        \"samples\": [\n          -5.05\n        ],\n        \"semantic_type\": \"\",\n        \"description\": \"\"\n      }\n    },\n    {\n      \"column\": \"Caco2_pred\",\n      \"properties\": {\n        \"dtype\": \"number\",\n        \"std\": null,\n        \"min\": -6.25,\n        \"max\": -6.25,\n        \"num_unique_values\": 1,\n        \"samples\": [\n          -6.25\n        ],\n        \"semantic_type\": \"\",\n        \"description\": \"\"\n      }\n    }\n  ]\n}"
            }
          },
          "metadata": {},
          "execution_count": 9
        }
      ],
      "source": [
        "prediction_df = pd.DataFrame({\n",
        "    'id': id_list,\n",
        "    'seq': seq_list,\n",
        "    'PAMPA_pred': prediction_pampa,\n",
        "    'Caco2_pred': prediction_caco2\n",
        "})\n",
        "\n",
        "prediction_df\n"
      ]
    }
  ],
  "metadata": {
    "kernelspec": {
      "display_name": "Python 3 (ipykernel)",
      "language": "python",
      "name": "python3"
    },
    "language_info": {
      "codemirror_mode": {
        "name": "ipython",
        "version": 3
      },
      "file_extension": ".py",
      "mimetype": "text/x-python",
      "name": "python",
      "nbconvert_exporter": "python",
      "pygments_lexer": "ipython3",
      "version": "3.12.6"
    },
    "colab": {
      "provenance": []
    }
  },
  "nbformat": 4,
  "nbformat_minor": 0
}