{
 "cells": [
  {
   "cell_type": "code",
   "execution_count": 81,
   "metadata": {
    "scrolled": true
   },
   "outputs": [
    {
     "name": "stdout",
     "output_type": "stream",
     "text": [
      "Requirement already satisfied: rdkit in /home/jpvelloso/miniforge3/envs/cipps_permeability/lib/python3.12/site-packages (2024.3.6)\n",
      "Requirement already satisfied: mordred in /home/jpvelloso/miniforge3/envs/cipps_permeability/lib/python3.12/site-packages (1.2.0)\n",
      "Requirement already satisfied: joblib in /home/jpvelloso/miniforge3/envs/cipps_permeability/lib/python3.12/site-packages (1.4.2)\n",
      "Requirement already satisfied: pandas in /home/jpvelloso/miniforge3/envs/cipps_permeability/lib/python3.12/site-packages (2.2.3)\n",
      "Requirement already satisfied: six==1.* in /home/jpvelloso/miniforge3/envs/cipps_permeability/lib/python3.12/site-packages (from mordred) (1.16.0)\n",
      "Requirement already satisfied: numpy==1.* in /home/jpvelloso/miniforge3/envs/cipps_permeability/lib/python3.12/site-packages (from mordred) (1.26.4)\n",
      "Requirement already satisfied: networkx==2.* in /home/jpvelloso/miniforge3/envs/cipps_permeability/lib/python3.12/site-packages (from mordred) (2.8.8)\n",
      "Requirement already satisfied: python-dateutil>=2.8.2 in /home/jpvelloso/miniforge3/envs/cipps_permeability/lib/python3.12/site-packages (from pandas) (2.9.0)\n",
      "Requirement already satisfied: pytz>=2020.1 in /home/jpvelloso/miniforge3/envs/cipps_permeability/lib/python3.12/site-packages (from pandas) (2024.1)\n",
      "Requirement already satisfied: tzdata>=2022.7 in /home/jpvelloso/miniforge3/envs/cipps_permeability/lib/python3.12/site-packages (from pandas) (2024.2)\n"
     ]
    }
   ],
   "source": [
    "!pip install rdkit mordred joblib pandas"
   ]
  },
  {
   "cell_type": "code",
   "execution_count": 82,
   "metadata": {},
   "outputs": [],
   "source": [
    "import os\n",
    "import pandas as pd\n",
    "from rdkit.Chem import AllChem\n",
    "from rdkit import Chem\n",
    "from rdkit.Chem import rdFingerprintGenerator\n",
    "from rdkit.Chem import Descriptors\n",
    "from rdkit.ML.Descriptors import MoleculeDescriptors\n",
    "from mordred import Calculator, descriptors\n",
    "import joblib"
   ]
  },
  {
   "cell_type": "code",
   "execution_count": 145,
   "metadata": {},
   "outputs": [
    {
     "data": {
      "application/vnd.jupyter.widget-view+json": {
       "model_id": "1d7b56bb03ea4211bf79993e9d579201",
       "version_major": 2,
       "version_minor": 0
      },
      "text/plain": [
       "Textarea(value='[H]NCCCC[C@H](NC(CNC([C@H](CSSC[C@H]1C(N[C@@H](CCC(N[H])=O)C(N[C@@H](CC2=CN([H])C3=C2C=CC=C3)C…"
      ]
     },
     "metadata": {},
     "output_type": "display_data"
    }
   ],
   "source": [
    "import ipywidgets as widgets\n",
    "from IPython.display import display\n",
    "\n",
    "# Create a text area widget for user input\n",
    "smile_input = \"C[C@@H](O)[C@@H]1NC(=O)[C@@H]2CCCN2C(=O)[C@H](CC(N)=O)NC(=O)[C@H](CO)NC(=O)[C@H](CO)NC(=O)[C@H](CO)NC1=O\" # @param {\"type\":\"string\",\"placeholder\":\"Input your SMILES here and press the play button located on the left.\"}\n",
    "display(smiles_input)\n",
    "\n",
    "# Process input into a DataFrame\n",
    "input_smiles = smiles_input.value.strip().split('\\n')  # <- note: single backslash here\n",
    "dataset = pd.DataFrame(input_smiles)\n",
    "seq_list = [str(x) for x in dataset.iloc[:, 0]]\n",
    "id_list = list(range(1, len(seq_list) + 1))\n",
    "\n",
    "dataset['SMILES_cano'] = canonical_smiles(dataset.iloc[:, 0])\n",
    "dataset_new = dataset.copy()\n"
   ]
  },
  {
   "cell_type": "code",
   "execution_count": 146,
   "metadata": {},
   "outputs": [],
   "source": [
    "def custom_Kappa3(A, alpha, Pi):\n",
    "    if A % 2 == 0:\n",
    "        return ((A + alpha - 3) * (A + alpha - 2) ** 2 / ((Pi + alpha) ** 2))\n",
    "    else:\n",
    "        return (A + alpha - 1) * (A + alpha - 3) ** 2 / ((Pi + alpha) ** 2)\n",
    "\n",
    "def canonical_smiles(smiles):\n",
    "    mols = [Chem.MolFromSmiles(smi) for smi in smiles]\n",
    "    return [Chem.MolToSmiles(mol) for mol in mols]\n"
   ]
  },
  {
   "cell_type": "code",
   "execution_count": 147,
   "metadata": {},
   "outputs": [],
   "source": [
    "mols = [Chem.MolFromSmiles(i) for i in dataset_new['SMILES_cano']]\n",
    "calc = MoleculeDescriptors.MolecularDescriptorCalculator([x[0] for x in Descriptors._descList])\n",
    "desc_names = calc.GetDescriptorNames()\n",
    "kappa3_idx = desc_names.index('Kappa3')\n",
    "\n",
    "Mol_descriptors = []\n",
    "for mol in mols:\n",
    "    mol = Chem.AddHs(mol)\n",
    "    descriptors_values = list(calc.CalcDescriptors(mol))\n",
    "    Pi = len(Chem.FindAllPathsOfLengthN(mol, 3))\n",
    "    alpha = Descriptors.HallKierAlpha(mol)\n",
    "    A = mol.GetNumAtoms()\n",
    "    custom_kappa3_value = custom_Kappa3(A, alpha, Pi)\n",
    "    descriptors_values[kappa3_idx] = custom_kappa3_value\n",
    "    Mol_descriptors.append(descriptors_values)\n",
    "\n",
    "df_with_rdkit_descriptors = pd.DataFrame(Mol_descriptors, columns=desc_names)\n",
    "dataset_new = pd.concat([dataset_new, df_with_rdkit_descriptors], axis=1)\n"
   ]
  },
  {
   "cell_type": "code",
   "execution_count": 148,
   "metadata": {},
   "outputs": [],
   "source": [
    "Morgan_fpts = []\n",
    "mfpgen = rdFingerprintGenerator.GetMorganGenerator(radius=2, fpSize=2048)\n",
    "\n",
    "for smi in dataset_new['SMILES_cano']:\n",
    "    mol = Chem.MolFromSmiles(smi)\n",
    "    scfp = mfpgen.GetCountFingerprintAsNumPy(mol)\n",
    "    Morgan_fpts.append(scfp)\n",
    "\n",
    "df_Morgan_fpts = pd.DataFrame(Morgan_fpts, columns=[f\"morgan{i+1}\" for i in range(len(Morgan_fpts[0]))])\n",
    "dataset_new = pd.concat([dataset_new, df_Morgan_fpts], axis=1)\n"
   ]
  },
  {
   "cell_type": "code",
   "execution_count": 149,
   "metadata": {},
   "outputs": [
    {
     "name": "stderr",
     "output_type": "stream",
     "text": [
      "100%|███████████████████████████████████████████████████████████████████████████████████████████████████████████████████████████████████████████████████████████████████████████████████████████████████████████| 1/1 [00:00<00:00, 12.42it/s]\n"
     ]
    }
   ],
   "source": [
    "calc_mordred = Calculator([\n",
    "    descriptors.WalkCount,\n",
    "    descriptors.Autocorrelation,\n",
    "    descriptors.ExtendedTopochemicalAtom,\n",
    "    descriptors.AtomCount\n",
    "], ignore_3D=False)\n",
    "\n",
    "mordred_descriptors = calc_mordred.pandas(mols)\n",
    "dataset_new = pd.concat([dataset_new, mordred_descriptors], axis=1)\n"
   ]
  },
  {
   "cell_type": "code",
   "execution_count": 150,
   "metadata": {},
   "outputs": [],
   "source": [
    "from sklearn.ensemble import ExtraTreesRegressor\n",
    "import pandas as pd\n",
    "\n",
    "# === PAMPA MODEL ===\n",
    "# Load training data\n",
    "data_training_pampa = pd.read_csv('/home/jpvelloso/cipps_cicpep_permeability/database_CycPeptMPDB1.2/PAMPA/PAMPA_greedy-23-01-25/all/ExtraTrees_12/CycPeptMPDB_Peptide_Assay_PAMPA_onlyInfo.csv_0.01features_final_df.csv.train_set_butina_0.3.csv_afterGreedyBLIND.csv')\n",
    "# Prepare features and labels\n",
    "X_pampa = pd.get_dummies(data_training_pampa)\n",
    "y_pampa = X_pampa['PAMPA']\n",
    "X_pampa.drop(['PAMPA', 'ID'], axis=1, inplace=True)\n",
    "# Train model\n",
    "model_pampa = ExtraTreesRegressor(n_estimators=100, n_jobs=-1, random_state=0)\n",
    "model_pampa.fit(X_pampa, y_pampa)\n",
    "\n",
    "# === CACO-2 MODEL ===\n",
    "# Load training data\n",
    "data_training_caco2 = pd.read_csv('/home/jpvelloso/cipps_cicpep_permeability/database_CycPeptMPDB1.2/caco2/Caco2_greedy-23-01-25/all/ExtraTrees_14/CycPeptMPDB_Peptide_Assay_Caco2_onlyInfo.csv_0.01features_final_df.csv.train_set_butina_0.3.csv_afterGreedyBLIND.csv')\n",
    "# Prepare features and labels\n",
    "X_caco2 = pd.get_dummies(data_training_caco2)\n",
    "y_caco2 = X_caco2['Caco2']\n",
    "X_caco2.drop(['Caco2', 'ID'], axis=1, inplace=True)\n",
    "# Train model\n",
    "model_caco2 = ExtraTreesRegressor(n_estimators=100, n_jobs=-1, random_state=0)\n",
    "model_caco2.fit(X_caco2, y_caco2)\n",
    "\n",
    "PAMPA_Features = ['BCUT2D_CHGLO','MolLogP','ATSC3c','VSA_EState2','ATSC0c','ATS8s',\n",
    "                  'AATSC7p','SRW05','fr_NH0','GATS4c','morgan688','morgan799']\n",
    "\n",
    "Caco2_Features = ['ATSC0se','Chi0n','AATS0i','morgan66','morgan131','AATSC0d','fr_halogen',\n",
    "                  'AATS8m','BalabanJ','ATSC7p','morgan1952','AATSC0m','MaxAbsPartialCharge','TSRW10']\n",
    "\n",
    "methods_df_pampa = pd.DataFrame(dataset_new, columns=PAMPA_Features)\n",
    "methods_df_caco2 = pd.DataFrame(dataset_new, columns=Caco2_Features)\n",
    "\n",
    "prediction_pampa = list(map(float, model_pampa.predict(methods_df_pampa).round(2)))\n",
    "prediction_caco2 = list(map(float, model_caco2.predict(methods_df_caco2).round(2)))"
   ]
  },
  {
   "cell_type": "code",
   "execution_count": 151,
   "metadata": {},
   "outputs": [
    {
     "data": {
      "text/html": [
       "<div>\n",
       "<style scoped>\n",
       "    .dataframe tbody tr th:only-of-type {\n",
       "        vertical-align: middle;\n",
       "    }\n",
       "\n",
       "    .dataframe tbody tr th {\n",
       "        vertical-align: top;\n",
       "    }\n",
       "\n",
       "    .dataframe thead th {\n",
       "        text-align: right;\n",
       "    }\n",
       "</style>\n",
       "<table border=\"1\" class=\"dataframe\">\n",
       "  <thead>\n",
       "    <tr style=\"text-align: right;\">\n",
       "      <th></th>\n",
       "      <th>id</th>\n",
       "      <th>seq</th>\n",
       "      <th>PAMPA_pred</th>\n",
       "      <th>Caco2_pred</th>\n",
       "    </tr>\n",
       "  </thead>\n",
       "  <tbody>\n",
       "    <tr>\n",
       "      <th>0</th>\n",
       "      <td>1</td>\n",
       "      <td>[H]NCCCC[C@H](NC(CNC([C@H](CSSC[C@H]1C(N[C@@H]...</td>\n",
       "      <td>-6.76</td>\n",
       "      <td>-6.58</td>\n",
       "    </tr>\n",
       "  </tbody>\n",
       "</table>\n",
       "</div>"
      ],
      "text/plain": [
       "   id                                                seq  PAMPA_pred  \\\n",
       "0   1  [H]NCCCC[C@H](NC(CNC([C@H](CSSC[C@H]1C(N[C@@H]...       -6.76   \n",
       "\n",
       "   Caco2_pred  \n",
       "0       -6.58  "
      ]
     },
     "execution_count": 151,
     "metadata": {},
     "output_type": "execute_result"
    }
   ],
   "source": [
    "prediction_df = pd.DataFrame({\n",
    "    'id': id_list,\n",
    "    'seq': seq_list,\n",
    "    'PAMPA_pred': prediction_pampa,\n",
    "    'Caco2_pred': prediction_caco2\n",
    "})\n",
    "\n",
    "prediction_df\n"
   ]
  }
 ],
 "metadata": {
  "kernelspec": {
   "display_name": "Python 3 (ipykernel)",
   "language": "python",
   "name": "python3"
  },
  "language_info": {
   "codemirror_mode": {
    "name": "ipython",
    "version": 3
   },
   "file_extension": ".py",
   "mimetype": "text/x-python",
   "name": "python",
   "nbconvert_exporter": "python",
   "pygments_lexer": "ipython3",
   "version": "3.12.6"
  }
 },
 "nbformat": 4,
 "nbformat_minor": 4
}
